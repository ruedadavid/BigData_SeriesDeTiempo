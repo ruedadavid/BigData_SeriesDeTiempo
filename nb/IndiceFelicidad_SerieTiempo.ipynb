{
 "cells": [
  {
   "cell_type": "markdown",
   "metadata": {},
   "source": [
    "# Índice de Felicidad - Series de tiempo\n",
    "\n",
    "Maestría Ciencias de Información y las Comunicaciones - Materia: Big Data.\n",
    "\n",
    "Por: David Alonso Rueda Rodríguez - 20181395007 (daruedar@correo.udistrital.edu.co)\n",
    "\n",
    "Tema: Preprocesamiento de datos."
   ]
  },
  {
   "cell_type": "markdown",
   "metadata": {},
   "source": [
    "#### Objetivo de la actividad:\n",
    "\n",
    "Aprender conceptos básicos de series de tiempo\n",
    "\n",
    "#### Temas trabajados\n",
    "\n",
    "A continuación, listado de actividades trabajadas en el pre-procesamiento de datos:\n",
    "    \n",
    "##### Pre-procesamiento\n",
    "    1  Cargar Librerías\n",
    "    2. Importar datos con pandas\n",
    "    3. Revisión de datos cargados\n",
    "    4. Datos a analizar\n",
    "    \n",
    "#### Listado de versiones\n",
    "\n",
    "1.0.0 Preparación del documento siguiendo documento de referencia.\n",
    "\n",
    "#### Fuente de repositorio de datos:\n",
    "\n",
    "Los datos trabajados se descargaron desde la plataforma Datos Macro, repositorio Titanic.\n",
    "\n",
    "Link: https://datosmacro.expansion.com/demografia/indice-felicidad"
   ]
  },
  {
   "cell_type": "markdown",
   "metadata": {},
   "source": [
    "### 1. Cargar librerías"
   ]
  },
  {
   "cell_type": "code",
   "execution_count": 234,
   "metadata": {},
   "outputs": [],
   "source": [
    "# Carga de librerías\n",
    "import pandas as pd\n",
    "import numpy as np\n",
    "import matplotlib.pyplot as plt\n",
    "import seaborn as sns\n",
    "% matplotlib inline"
   ]
  },
  {
   "cell_type": "markdown",
   "metadata": {},
   "source": [
    "## 2. Importar achivo de interés"
   ]
  },
  {
   "cell_type": "code",
   "execution_count": 235,
   "metadata": {},
   "outputs": [
    {
     "data": {
      "text/html": [
       "<div>\n",
       "<style scoped>\n",
       "    .dataframe tbody tr th:only-of-type {\n",
       "        vertical-align: middle;\n",
       "    }\n",
       "\n",
       "    .dataframe tbody tr th {\n",
       "        vertical-align: top;\n",
       "    }\n",
       "\n",
       "    .dataframe thead th {\n",
       "        text-align: right;\n",
       "    }\n",
       "</style>\n",
       "<table border=\"1\" class=\"dataframe\">\n",
       "  <thead>\n",
       "    <tr style=\"text-align: right;\">\n",
       "      <th></th>\n",
       "      <th>Países</th>\n",
       "      <th>RF_2019</th>\n",
       "      <th>IF2019</th>\n",
       "      <th>RF_2018</th>\n",
       "      <th>IF2018</th>\n",
       "      <th>RF_2016</th>\n",
       "      <th>IF2016</th>\n",
       "      <th>RF_2015</th>\n",
       "      <th>IF2015</th>\n",
       "      <th>RF_2014</th>\n",
       "      <th>IF2014</th>\n",
       "    </tr>\n",
       "  </thead>\n",
       "  <tbody>\n",
       "    <tr>\n",
       "      <th>0</th>\n",
       "      <td>Finlandia</td>\n",
       "      <td>1</td>\n",
       "      <td>7769</td>\n",
       "      <td>1.0</td>\n",
       "      <td>7632.0</td>\n",
       "      <td>5.0</td>\n",
       "      <td>7469.0</td>\n",
       "      <td>5.0</td>\n",
       "      <td>7413.0</td>\n",
       "      <td>7.0</td>\n",
       "      <td>7389.0</td>\n",
       "    </tr>\n",
       "    <tr>\n",
       "      <th>1</th>\n",
       "      <td>Dinamarca</td>\n",
       "      <td>2</td>\n",
       "      <td>7600</td>\n",
       "      <td>3.0</td>\n",
       "      <td>7555.0</td>\n",
       "      <td>2.0</td>\n",
       "      <td>7522.0</td>\n",
       "      <td>1.0</td>\n",
       "      <td>7526.0</td>\n",
       "      <td>1.0</td>\n",
       "      <td>7693.0</td>\n",
       "    </tr>\n",
       "    <tr>\n",
       "      <th>2</th>\n",
       "      <td>Noruega</td>\n",
       "      <td>3</td>\n",
       "      <td>7554</td>\n",
       "      <td>2.0</td>\n",
       "      <td>7594.0</td>\n",
       "      <td>1.0</td>\n",
       "      <td>7537.0</td>\n",
       "      <td>4.0</td>\n",
       "      <td>7498.0</td>\n",
       "      <td>2.0</td>\n",
       "      <td>7655.0</td>\n",
       "    </tr>\n",
       "    <tr>\n",
       "      <th>3</th>\n",
       "      <td>Islandia</td>\n",
       "      <td>4</td>\n",
       "      <td>7494</td>\n",
       "      <td>4.0</td>\n",
       "      <td>7495.0</td>\n",
       "      <td>3.0</td>\n",
       "      <td>7504.0</td>\n",
       "      <td>3.0</td>\n",
       "      <td>7501.0</td>\n",
       "      <td>9.0</td>\n",
       "      <td>7355.0</td>\n",
       "    </tr>\n",
       "    <tr>\n",
       "      <th>4</th>\n",
       "      <td>Holanda</td>\n",
       "      <td>5</td>\n",
       "      <td>7488</td>\n",
       "      <td>6.0</td>\n",
       "      <td>7441.0</td>\n",
       "      <td>6.0</td>\n",
       "      <td>7377.0</td>\n",
       "      <td>7.0</td>\n",
       "      <td>7339.0</td>\n",
       "      <td>4.0</td>\n",
       "      <td>7512.0</td>\n",
       "    </tr>\n",
       "  </tbody>\n",
       "</table>\n",
       "</div>"
      ],
      "text/plain": [
       "      Países  RF_2019  IF2019  RF_2018  IF2018  RF_2016  IF2016  RF_2015  \\\n",
       "0  Finlandia        1    7769      1.0  7632.0      5.0  7469.0      5.0   \n",
       "1  Dinamarca        2    7600      3.0  7555.0      2.0  7522.0      1.0   \n",
       "2    Noruega        3    7554      2.0  7594.0      1.0  7537.0      4.0   \n",
       "3   Islandia        4    7494      4.0  7495.0      3.0  7504.0      3.0   \n",
       "4    Holanda        5    7488      6.0  7441.0      6.0  7377.0      7.0   \n",
       "\n",
       "   IF2015  RF_2014  IF2014  \n",
       "0  7413.0      7.0  7389.0  \n",
       "1  7526.0      1.0  7693.0  \n",
       "2  7498.0      2.0  7655.0  \n",
       "3  7501.0      9.0  7355.0  \n",
       "4  7339.0      4.0  7512.0  "
      ]
     },
     "execution_count": 235,
     "metadata": {},
     "output_type": "execute_result"
    }
   ],
   "source": [
    "# Cargar archivo de datos\n",
    "# para cargar estos datos es necesario tener instalada la libreria xlrd\n",
    "ai = pd.read_excel('../src/DatosFelicidad.xlsx')\n",
    "ai.head(5)"
   ]
  },
  {
   "cell_type": "markdown",
   "metadata": {},
   "source": [
    "## 3. Revisión de Datos Cargados"
   ]
  },
  {
   "cell_type": "code",
   "execution_count": 236,
   "metadata": {},
   "outputs": [
    {
     "name": "stdout",
     "output_type": "stream",
     "text": [
      "\n",
      "**¿Cuántos registros fueron cargados?**\n",
      "\n",
      "- Número de Registros Cargados 154 \n",
      "- Número de Columnas: 11\n"
     ]
    }
   ],
   "source": [
    "#¿Cuántos registros fueron cargados?\n",
    "print('\\n**¿Cuántos registros fueron cargados?**\\n')\n",
    "print('- Número de Registros Cargados {} \\n- Número de Columnas: {}' .format(ai.shape[0], ai.shape[1]))"
   ]
  },
  {
   "cell_type": "code",
   "execution_count": 237,
   "metadata": {},
   "outputs": [
    {
     "name": "stdout",
     "output_type": "stream",
     "text": [
      "\n",
      "**¿Cuántos datos nulos tiene el listado de datos?**\n",
      "\n"
     ]
    },
    {
     "data": {
      "text/plain": [
       "Países     0\n",
       "RF_2019    0\n",
       "IF2019     0\n",
       "RF_2018    3\n",
       "IF2018     3\n",
       "RF_2016    4\n",
       "IF2016     4\n",
       "RF_2015    5\n",
       "IF2015     5\n",
       "RF_2014    7\n",
       "IF2014     7\n",
       "dtype: int64"
      ]
     },
     "execution_count": 237,
     "metadata": {},
     "output_type": "execute_result"
    }
   ],
   "source": [
    "# ¿Cuántos datos nulos tiene el listado de datos?\n",
    "print('\\n**¿Cuántos datos nulos tiene el listado de datos?**\\n')\n",
    "ai.isnull().sum()"
   ]
  },
  {
   "cell_type": "markdown",
   "metadata": {},
   "source": [
    "¿Qué datos contiene cada una de las columnas?\n",
    "\n",
    "|Nombre de la Columna|Nombre Original|Descripción del Contenido|\n",
    "|:-----|:-----|:-----|\n",
    "|RF_2019|Ranking de Felicidad|Posición en el ranking para el año de estudio 2019.|\n",
    "|IF2019|Índice de Felicidad|Puntaje acumulado para el año de estudio 2019.|\n",
    "|RF_2018|Ranking de Felicidad|Posición en el ranking para el año de estudio 2018|\n",
    "|IF2018|Índice de Felicidad|Puntaje acumulado para el año de estudio 2018|\n",
    "|RF_2016|Ranking de Felicidad|Posición en el ranking para el año de estudio 2016|\n",
    "|IF2016|Índice de Felicidad|Puntaje acumulado para el año de estudio 2016|\n",
    "|RF_2015|Ranking de Felicidad|Posición en el ranking para el año de estudio 2015|\n",
    "|IF2015|Índice de Felicidad|Puntaje acumulado para el año de estudio 2015|\n",
    "|RF_2014|Ranking de Felicidad|Posición en el ranking para el año de estudio 2014|\n",
    "|IF2014|Índice de Felicidad|Puntaje acumulado para el año de estudio 2014|"
   ]
  },
  {
   "cell_type": "markdown",
   "metadata": {},
   "source": [
    "Se han identificado datos nulos para datos en los años 2018, 2016, 2015 y 2014, los países que presenta valores nulos son los siguientes:\n",
    "\n",
    "|Países con datos Nulos 2018|Países con datos Nulos 2016|Países con datos Nulos 2015|Países con datos Nulos 2014|\n",
    "|--|--|--|--|\n",
    "|Gambia|Gambia|Gambia|Gambia|\n",
    "|Suazilandia|Suazilandia|Suazilandia|\n",
    "|Comoras|Comoras|||\n",
    "||Laos|||\n",
    "|||Mozambique||\n",
    "|||República Centroafricana||\n",
    "||||Bután|\n",
    "||||Costa de Marfil|\n",
    "||||Somalia|\n",
    "||||Namibia|\n",
    "||||República Democrática del Congo|\n",
    "||||Sudán del Sur|\n",
    "    "
   ]
  },
  {
   "cell_type": "code",
   "execution_count": 238,
   "metadata": {},
   "outputs": [
    {
     "name": "stdout",
     "output_type": "stream",
     "text": [
      "<class 'pandas.core.frame.DataFrame'>\n",
      "RangeIndex: 154 entries, 0 to 153\n",
      "Data columns (total 11 columns):\n",
      "Países     154 non-null object\n",
      "RF_2019    154 non-null int64\n",
      "IF2019     154 non-null int64\n",
      "RF_2018    151 non-null float64\n",
      "IF2018     151 non-null float64\n",
      "RF_2016    150 non-null float64\n",
      "IF2016     150 non-null float64\n",
      "RF_2015    149 non-null float64\n",
      "IF2015     149 non-null float64\n",
      "RF_2014    147 non-null float64\n",
      "IF2014     147 non-null float64\n",
      "dtypes: float64(8), int64(2), object(1)\n",
      "memory usage: 13.3+ KB\n"
     ]
    }
   ],
   "source": [
    "# Revisión de datos cargados\n",
    "ai.info()"
   ]
  },
  {
   "cell_type": "markdown",
   "metadata": {},
   "source": [
    "En una primera revisión los datos de las columnas con prefijo RF, fueron cargados como objetos. La modificación realizada consistió en cambiar el separador de miles para ajustar el formato regional de separación de decimales"
   ]
  },
  {
   "cell_type": "markdown",
   "metadata": {},
   "source": [
    "#### Transformación de tabla original\n",
    "Considerando que los datos en general representan la misma variable y esta cambia únicamente en los años se ha transformado la tabla original desde la fuente de datos.\n",
    "\n",
    "El resultado es una tabla con 4 variables:\n",
    "\n",
    "|Variable|Descripción de contenido|\n",
    "|:--|:--|\n",
    "|Paises| Nombre del país|\n",
    "|anio| Año del dato|\n",
    "|RF| Ranking de Felicidad|\n",
    "|IF| Índice de Felicidad|\n",
    "\n",
    "Luego de las transformación propuestas se ha pasado de una tabla con 10 columnas y 154 datos a una tabla con\n",
    "4 columnas y 751 datos."
   ]
  },
  {
   "cell_type": "code",
   "execution_count": 239,
   "metadata": {},
   "outputs": [
    {
     "data": {
      "text/html": [
       "<div>\n",
       "<style scoped>\n",
       "    .dataframe tbody tr th:only-of-type {\n",
       "        vertical-align: middle;\n",
       "    }\n",
       "\n",
       "    .dataframe tbody tr th {\n",
       "        vertical-align: top;\n",
       "    }\n",
       "\n",
       "    .dataframe thead th {\n",
       "        text-align: right;\n",
       "    }\n",
       "</style>\n",
       "<table border=\"1\" class=\"dataframe\">\n",
       "  <thead>\n",
       "    <tr style=\"text-align: right;\">\n",
       "      <th></th>\n",
       "      <th>Paises</th>\n",
       "      <th>anio</th>\n",
       "      <th>RF</th>\n",
       "      <th>IF</th>\n",
       "    </tr>\n",
       "  </thead>\n",
       "  <tbody>\n",
       "    <tr>\n",
       "      <th>0</th>\n",
       "      <td>Finlandia</td>\n",
       "      <td>2019</td>\n",
       "      <td>1</td>\n",
       "      <td>7769</td>\n",
       "    </tr>\n",
       "    <tr>\n",
       "      <th>1</th>\n",
       "      <td>Dinamarca</td>\n",
       "      <td>2019</td>\n",
       "      <td>2</td>\n",
       "      <td>7600</td>\n",
       "    </tr>\n",
       "    <tr>\n",
       "      <th>2</th>\n",
       "      <td>Noruega</td>\n",
       "      <td>2019</td>\n",
       "      <td>3</td>\n",
       "      <td>7554</td>\n",
       "    </tr>\n",
       "    <tr>\n",
       "      <th>3</th>\n",
       "      <td>Islandia</td>\n",
       "      <td>2019</td>\n",
       "      <td>4</td>\n",
       "      <td>7494</td>\n",
       "    </tr>\n",
       "    <tr>\n",
       "      <th>4</th>\n",
       "      <td>Holanda</td>\n",
       "      <td>2019</td>\n",
       "      <td>5</td>\n",
       "      <td>7488</td>\n",
       "    </tr>\n",
       "  </tbody>\n",
       "</table>\n",
       "</div>"
      ],
      "text/plain": [
       "      Paises  anio  RF    IF\n",
       "0  Finlandia  2019   1  7769\n",
       "1  Dinamarca  2019   2  7600\n",
       "2    Noruega  2019   3  7554\n",
       "3   Islandia  2019   4  7494\n",
       "4    Holanda  2019   5  7488"
      ]
     },
     "execution_count": 239,
     "metadata": {},
     "output_type": "execute_result"
    }
   ],
   "source": [
    "ai2 = pd.read_excel('../src/DatosFelicidad2.xlsx')\n",
    "ai2.head(5)"
   ]
  },
  {
   "cell_type": "code",
   "execution_count": 240,
   "metadata": {},
   "outputs": [
    {
     "name": "stdout",
     "output_type": "stream",
     "text": [
      "\n",
      "**¿Cuántos registros fueron cargados?**\n",
      "\n",
      "- Número de Registros Cargados 751 \n",
      "- Número de Columnas: 4\n"
     ]
    }
   ],
   "source": [
    "#¿Cuántos registros fueron cargados?\n",
    "print('\\n**¿Cuántos registros fueron cargados?**\\n')\n",
    "print('- Número de Registros Cargados {} \\n- Número de Columnas: {}' .format(ai2.shape[0], ai2.shape[1]))"
   ]
  },
  {
   "cell_type": "markdown",
   "metadata": {},
   "source": [
    "Otros de los elementos modificados en esta versión fueron los datos nulos que aparecian en la primera tabla de datos, de tal forma que estos datos fueron eliminados desde el archivo fuente"
   ]
  },
  {
   "cell_type": "code",
   "execution_count": 241,
   "metadata": {},
   "outputs": [
    {
     "name": "stdout",
     "output_type": "stream",
     "text": [
      "\n",
      "**¿Cuántos datos nulos tiene el listado de datos?**\n",
      "\n"
     ]
    },
    {
     "data": {
      "text/plain": [
       "Paises    0\n",
       "anio      0\n",
       "RF        0\n",
       "IF        0\n",
       "dtype: int64"
      ]
     },
     "execution_count": 241,
     "metadata": {},
     "output_type": "execute_result"
    }
   ],
   "source": [
    "# ¿Cuántos datos nulos tiene el listado de datos?\n",
    "print('\\n**¿Cuántos datos nulos tiene el listado de datos?**\\n')\n",
    "ai2.isnull().sum()"
   ]
  },
  {
   "cell_type": "code",
   "execution_count": 242,
   "metadata": {},
   "outputs": [
    {
     "name": "stdout",
     "output_type": "stream",
     "text": [
      "<class 'pandas.core.frame.DataFrame'>\n",
      "RangeIndex: 751 entries, 0 to 750\n",
      "Data columns (total 4 columns):\n",
      "Paises    751 non-null object\n",
      "anio      751 non-null int64\n",
      "RF        751 non-null int64\n",
      "IF        751 non-null int64\n",
      "dtypes: int64(3), object(1)\n",
      "memory usage: 23.5+ KB\n"
     ]
    }
   ],
   "source": [
    "# Descripción de los datos\n",
    "ai2.info()"
   ]
  },
  {
   "cell_type": "markdown",
   "metadata": {},
   "source": [
    "## 4. Datos a Analizar"
   ]
  },
  {
   "cell_type": "markdown",
   "metadata": {},
   "source": [
    "En primera instancia se ha realizado una revisión global de las variables"
   ]
  },
  {
   "cell_type": "code",
   "execution_count": 243,
   "metadata": {},
   "outputs": [
    {
     "data": {
      "text/html": [
       "<div>\n",
       "<style scoped>\n",
       "    .dataframe tbody tr th:only-of-type {\n",
       "        vertical-align: middle;\n",
       "    }\n",
       "\n",
       "    .dataframe tbody tr th {\n",
       "        vertical-align: top;\n",
       "    }\n",
       "\n",
       "    .dataframe thead th {\n",
       "        text-align: right;\n",
       "    }\n",
       "</style>\n",
       "<table border=\"1\" class=\"dataframe\">\n",
       "  <thead>\n",
       "    <tr style=\"text-align: right;\">\n",
       "      <th></th>\n",
       "      <th>RF_2019</th>\n",
       "      <th>IF2019</th>\n",
       "      <th>RF_2018</th>\n",
       "      <th>IF2018</th>\n",
       "      <th>RF_2016</th>\n",
       "      <th>IF2016</th>\n",
       "      <th>RF_2015</th>\n",
       "      <th>IF2015</th>\n",
       "      <th>RF_2014</th>\n",
       "      <th>IF2014</th>\n",
       "    </tr>\n",
       "  </thead>\n",
       "  <tbody>\n",
       "    <tr>\n",
       "      <th>count</th>\n",
       "      <td>154.000000</td>\n",
       "      <td>154.000000</td>\n",
       "      <td>151.000000</td>\n",
       "      <td>151.000000</td>\n",
       "      <td>150.000000</td>\n",
       "      <td>150.00000</td>\n",
       "      <td>149.000000</td>\n",
       "      <td>149.000000</td>\n",
       "      <td>147.000000</td>\n",
       "      <td>147.000000</td>\n",
       "    </tr>\n",
       "    <tr>\n",
       "      <th>mean</th>\n",
       "      <td>78.805195</td>\n",
       "      <td>5400.577922</td>\n",
       "      <td>78.105960</td>\n",
       "      <td>5385.761589</td>\n",
       "      <td>77.540000</td>\n",
       "      <td>5365.96000</td>\n",
       "      <td>79.100671</td>\n",
       "      <td>5379.228188</td>\n",
       "      <td>78.326531</td>\n",
       "      <td>5424.557823</td>\n",
       "    </tr>\n",
       "    <tr>\n",
       "      <th>std</th>\n",
       "      <td>45.379601</td>\n",
       "      <td>1118.668780</td>\n",
       "      <td>45.271794</td>\n",
       "      <td>1124.241159</td>\n",
       "      <td>45.069466</td>\n",
       "      <td>1136.83544</td>\n",
       "      <td>45.674634</td>\n",
       "      <td>1148.940841</td>\n",
       "      <td>45.784810</td>\n",
       "      <td>1118.542686</td>\n",
       "    </tr>\n",
       "    <tr>\n",
       "      <th>min</th>\n",
       "      <td>1.000000</td>\n",
       "      <td>2853.000000</td>\n",
       "      <td>1.000000</td>\n",
       "      <td>2905.000000</td>\n",
       "      <td>1.000000</td>\n",
       "      <td>2693.00000</td>\n",
       "      <td>1.000000</td>\n",
       "      <td>2905.000000</td>\n",
       "      <td>1.000000</td>\n",
       "      <td>2936.000000</td>\n",
       "    </tr>\n",
       "    <tr>\n",
       "      <th>25%</th>\n",
       "      <td>39.250000</td>\n",
       "      <td>4537.500000</td>\n",
       "      <td>38.500000</td>\n",
       "      <td>4463.500000</td>\n",
       "      <td>38.250000</td>\n",
       "      <td>4519.25000</td>\n",
       "      <td>39.000000</td>\n",
       "      <td>4404.000000</td>\n",
       "      <td>38.500000</td>\n",
       "      <td>4567.500000</td>\n",
       "    </tr>\n",
       "    <tr>\n",
       "      <th>50%</th>\n",
       "      <td>79.500000</td>\n",
       "      <td>5356.000000</td>\n",
       "      <td>79.000000</td>\n",
       "      <td>5358.000000</td>\n",
       "      <td>78.000000</td>\n",
       "      <td>5283.00000</td>\n",
       "      <td>80.000000</td>\n",
       "      <td>5303.000000</td>\n",
       "      <td>78.000000</td>\n",
       "      <td>5340.000000</td>\n",
       "    </tr>\n",
       "    <tr>\n",
       "      <th>75%</th>\n",
       "      <td>117.750000</td>\n",
       "      <td>6189.500000</td>\n",
       "      <td>116.500000</td>\n",
       "      <td>6182.500000</td>\n",
       "      <td>115.750000</td>\n",
       "      <td>6152.25000</td>\n",
       "      <td>118.000000</td>\n",
       "      <td>6324.000000</td>\n",
       "      <td>118.500000</td>\n",
       "      <td>6306.000000</td>\n",
       "    </tr>\n",
       "    <tr>\n",
       "      <th>max</th>\n",
       "      <td>156.000000</td>\n",
       "      <td>7769.000000</td>\n",
       "      <td>156.000000</td>\n",
       "      <td>7632.000000</td>\n",
       "      <td>155.000000</td>\n",
       "      <td>7537.00000</td>\n",
       "      <td>157.000000</td>\n",
       "      <td>7526.000000</td>\n",
       "      <td>156.000000</td>\n",
       "      <td>7693.000000</td>\n",
       "    </tr>\n",
       "  </tbody>\n",
       "</table>\n",
       "</div>"
      ],
      "text/plain": [
       "          RF_2019       IF2019     RF_2018       IF2018     RF_2016  \\\n",
       "count  154.000000   154.000000  151.000000   151.000000  150.000000   \n",
       "mean    78.805195  5400.577922   78.105960  5385.761589   77.540000   \n",
       "std     45.379601  1118.668780   45.271794  1124.241159   45.069466   \n",
       "min      1.000000  2853.000000    1.000000  2905.000000    1.000000   \n",
       "25%     39.250000  4537.500000   38.500000  4463.500000   38.250000   \n",
       "50%     79.500000  5356.000000   79.000000  5358.000000   78.000000   \n",
       "75%    117.750000  6189.500000  116.500000  6182.500000  115.750000   \n",
       "max    156.000000  7769.000000  156.000000  7632.000000  155.000000   \n",
       "\n",
       "           IF2016     RF_2015       IF2015     RF_2014       IF2014  \n",
       "count   150.00000  149.000000   149.000000  147.000000   147.000000  \n",
       "mean   5365.96000   79.100671  5379.228188   78.326531  5424.557823  \n",
       "std    1136.83544   45.674634  1148.940841   45.784810  1118.542686  \n",
       "min    2693.00000    1.000000  2905.000000    1.000000  2936.000000  \n",
       "25%    4519.25000   39.000000  4404.000000   38.500000  4567.500000  \n",
       "50%    5283.00000   80.000000  5303.000000   78.000000  5340.000000  \n",
       "75%    6152.25000  118.000000  6324.000000  118.500000  6306.000000  \n",
       "max    7537.00000  157.000000  7526.000000  156.000000  7693.000000  "
      ]
     },
     "execution_count": 243,
     "metadata": {},
     "output_type": "execute_result"
    }
   ],
   "source": [
    "ai.describe()"
   ]
  },
  {
   "cell_type": "markdown",
   "metadata": {},
   "source": [
    "En el primer caso es posible analizar los datos por cada año, y una vez realizada esta actividad hacer una comparación entre los años disponibles.\n",
    "\n",
    "##### Media\n",
    "\n",
    "Se han tomado los datos del Índice de Felicidad, en este grupo se destaca que la media para todos los países considerados ha estado en todos los casos sobre 5379.22 puntos, este valor que es el más de los años comparados se presentó en el año 2015, y el valor más alto de esta medida de tendencia central se ha presentado para el año 2014.\n",
    "\n",
    "#### Valor mínimo\n",
    "\n",
    "El menor valor logrado en el índice de felicidad se presentó en el año 2016, y el mayor valor de los menores fue obtenido en el 2905.\n",
    "\n",
    "#### Valor máximo\n",
    "\n",
    "El menor valor máximo fue obtenido en 2016, mientras el máximo valor de este valor se obtuvo en 2019.\n",
    "\n",
    "Los anteriores datos no muestran una tendencia clara de los indicadores globales año tras año, inicialmente se esperaba que estos valores presentaran una tendencia a nivel global, pero este comportamiento no se evidencia.\n",
    "\n",
    "#### Dispersión de los datos\n",
    "\n",
    "Los datos presentan una dispersión que en promedio rondan las 1129, al promediar este valor con los obtenidos en los años con datos la dispersión tampoco presenta un comportamiento estable, porque frente al promedio pasa de un valor de -10 en el 2014, y salta abruptamente a 19 en el años 2015, para el año 2016 la diferencia son 7 unidades mientras para los años 2018 es -5 y para el año 2019 de -10. En conclusión no se observa una tendencia."
   ]
  },
  {
   "cell_type": "code",
   "execution_count": 269,
   "metadata": {},
   "outputs": [
    {
     "data": {
      "image/png": "[encoded data removed]",
      "text/plain": [
       "<Figure size 432x288 with 1 Axes>"
      ]
     },
     "metadata": {},
     "output_type": "display_data"
    }
   ],
   "source": [
    "plot1 = ai.boxplot(['IF2019', 'IF2018', 'IF2016', 'IF2015', 'IF2014'], grid= False)"
   ]
  },
  {
   "cell_type": "markdown",
   "metadata": {},
   "source": [
    "Se ha generado un gráfico de cajas para revisar si se presentan valores que se consideren atípicos, en este caso no se han marcado valores que salgan de los valores intercuartílicos definidos en estos conjuntos de datos."
   ]
  },
  {
   "cell_type": "code",
   "execution_count": 246,
   "metadata": {},
   "outputs": [],
   "source": [
    "# Definición de listado con datos de interés\n",
    "paises_Interes = ['Finlandia', 'Dinamarca', 'Canadá', 'Australia', 'Estados Unidos', 'España', 'Colombia']"
   ]
  },
  {
   "cell_type": "code",
   "execution_count": 284,
   "metadata": {},
   "outputs": [
    {
     "data": {
      "text/html": [
       "<div>\n",
       "<style scoped>\n",
       "    .dataframe tbody tr th:only-of-type {\n",
       "        vertical-align: middle;\n",
       "    }\n",
       "\n",
       "    .dataframe tbody tr th {\n",
       "        vertical-align: top;\n",
       "    }\n",
       "\n",
       "    .dataframe thead th {\n",
       "        text-align: right;\n",
       "    }\n",
       "</style>\n",
       "<table border=\"1\" class=\"dataframe\">\n",
       "  <thead>\n",
       "    <tr style=\"text-align: right;\">\n",
       "      <th></th>\n",
       "      <th>Países</th>\n",
       "      <th>IF2019</th>\n",
       "      <th>IF2018</th>\n",
       "      <th>IF2016</th>\n",
       "      <th>IF2015</th>\n",
       "      <th>IF2014</th>\n",
       "    </tr>\n",
       "  </thead>\n",
       "  <tbody>\n",
       "    <tr>\n",
       "      <th>0</th>\n",
       "      <td>Finlandia</td>\n",
       "      <td>7769</td>\n",
       "      <td>7632.0</td>\n",
       "      <td>7469.0</td>\n",
       "      <td>7413.0</td>\n",
       "      <td>7389.0</td>\n",
       "    </tr>\n",
       "    <tr>\n",
       "      <th>1</th>\n",
       "      <td>Dinamarca</td>\n",
       "      <td>7600</td>\n",
       "      <td>7555.0</td>\n",
       "      <td>7522.0</td>\n",
       "      <td>7526.0</td>\n",
       "      <td>7693.0</td>\n",
       "    </tr>\n",
       "    <tr>\n",
       "      <th>2</th>\n",
       "      <td>Canadá</td>\n",
       "      <td>7278</td>\n",
       "      <td>7328.0</td>\n",
       "      <td>7316.0</td>\n",
       "      <td>7404.0</td>\n",
       "      <td>7477.0</td>\n",
       "    </tr>\n",
       "    <tr>\n",
       "      <th>3</th>\n",
       "      <td>Australia</td>\n",
       "      <td>7228</td>\n",
       "      <td>7272.0</td>\n",
       "      <td>7284.0</td>\n",
       "      <td>7313.0</td>\n",
       "      <td>7350.0</td>\n",
       "    </tr>\n",
       "    <tr>\n",
       "      <th>4</th>\n",
       "      <td>Estados Unidos</td>\n",
       "      <td>6892</td>\n",
       "      <td>6886.0</td>\n",
       "      <td>6993.0</td>\n",
       "      <td>7104.0</td>\n",
       "      <td>7082.0</td>\n",
       "    </tr>\n",
       "    <tr>\n",
       "      <th>5</th>\n",
       "      <td>España</td>\n",
       "      <td>6354</td>\n",
       "      <td>6310.0</td>\n",
       "      <td>6403.0</td>\n",
       "      <td>6361.0</td>\n",
       "      <td>6322.0</td>\n",
       "    </tr>\n",
       "    <tr>\n",
       "      <th>6</th>\n",
       "      <td>Colombia</td>\n",
       "      <td>6125</td>\n",
       "      <td>6260.0</td>\n",
       "      <td>6357.0</td>\n",
       "      <td>6481.0</td>\n",
       "      <td>6416.0</td>\n",
       "    </tr>\n",
       "  </tbody>\n",
       "</table>\n",
       "</div>"
      ],
      "text/plain": [
       "           Países  IF2019  IF2018  IF2016  IF2015  IF2014\n",
       "0       Finlandia    7769  7632.0  7469.0  7413.0  7389.0\n",
       "1       Dinamarca    7600  7555.0  7522.0  7526.0  7693.0\n",
       "2          Canadá    7278  7328.0  7316.0  7404.0  7477.0\n",
       "3       Australia    7228  7272.0  7284.0  7313.0  7350.0\n",
       "4  Estados Unidos    6892  6886.0  6993.0  7104.0  7082.0\n",
       "5          España    6354  6310.0  6403.0  6361.0  6322.0\n",
       "6        Colombia    6125  6260.0  6357.0  6481.0  6416.0"
      ]
     },
     "execution_count": 284,
     "metadata": {},
     "output_type": "execute_result"
    }
   ],
   "source": [
    "# Declaración e inicialización de DataFrame df\n",
    "df = pd.DataFrame()\n",
    "# Extracción de datos de interés\n",
    "for i in paises_Interes:\n",
    "    df = df.append(ai[ai.Países == i], ignore_index= True)\n",
    "df[['Países', 'IF2019', 'IF2018', 'IF2016', 'IF2015', 'IF2014']]"
   ]
  },
  {
   "cell_type": "code",
   "execution_count": 280,
   "metadata": {},
   "outputs": [
    {
     "data": {
      "text/html": [
       "<div>\n",
       "<style scoped>\n",
       "    .dataframe tbody tr th:only-of-type {\n",
       "        vertical-align: middle;\n",
       "    }\n",
       "\n",
       "    .dataframe tbody tr th {\n",
       "        vertical-align: top;\n",
       "    }\n",
       "\n",
       "    .dataframe thead th {\n",
       "        text-align: right;\n",
       "    }\n",
       "</style>\n",
       "<table border=\"1\" class=\"dataframe\">\n",
       "  <thead>\n",
       "    <tr style=\"text-align: right;\">\n",
       "      <th></th>\n",
       "      <th>IF2019</th>\n",
       "      <th>IF2018</th>\n",
       "      <th>IF2016</th>\n",
       "      <th>IF2015</th>\n",
       "      <th>IF2014</th>\n",
       "    </tr>\n",
       "  </thead>\n",
       "  <tbody>\n",
       "    <tr>\n",
       "      <th>count</th>\n",
       "      <td>154.000000</td>\n",
       "      <td>151.000000</td>\n",
       "      <td>150.00000</td>\n",
       "      <td>149.000000</td>\n",
       "      <td>147.000000</td>\n",
       "    </tr>\n",
       "    <tr>\n",
       "      <th>mean</th>\n",
       "      <td>5400.577922</td>\n",
       "      <td>5385.761589</td>\n",
       "      <td>5365.96000</td>\n",
       "      <td>5379.228188</td>\n",
       "      <td>5424.557823</td>\n",
       "    </tr>\n",
       "    <tr>\n",
       "      <th>std</th>\n",
       "      <td>1118.668780</td>\n",
       "      <td>1124.241159</td>\n",
       "      <td>1136.83544</td>\n",
       "      <td>1148.940841</td>\n",
       "      <td>1118.542686</td>\n",
       "    </tr>\n",
       "    <tr>\n",
       "      <th>min</th>\n",
       "      <td>2853.000000</td>\n",
       "      <td>2905.000000</td>\n",
       "      <td>2693.00000</td>\n",
       "      <td>2905.000000</td>\n",
       "      <td>2936.000000</td>\n",
       "    </tr>\n",
       "    <tr>\n",
       "      <th>25%</th>\n",
       "      <td>4537.500000</td>\n",
       "      <td>4463.500000</td>\n",
       "      <td>4519.25000</td>\n",
       "      <td>4404.000000</td>\n",
       "      <td>4567.500000</td>\n",
       "    </tr>\n",
       "    <tr>\n",
       "      <th>50%</th>\n",
       "      <td>5356.000000</td>\n",
       "      <td>5358.000000</td>\n",
       "      <td>5283.00000</td>\n",
       "      <td>5303.000000</td>\n",
       "      <td>5340.000000</td>\n",
       "    </tr>\n",
       "    <tr>\n",
       "      <th>75%</th>\n",
       "      <td>6189.500000</td>\n",
       "      <td>6182.500000</td>\n",
       "      <td>6152.25000</td>\n",
       "      <td>6324.000000</td>\n",
       "      <td>6306.000000</td>\n",
       "    </tr>\n",
       "    <tr>\n",
       "      <th>max</th>\n",
       "      <td>7769.000000</td>\n",
       "      <td>7632.000000</td>\n",
       "      <td>7537.00000</td>\n",
       "      <td>7526.000000</td>\n",
       "      <td>7693.000000</td>\n",
       "    </tr>\n",
       "  </tbody>\n",
       "</table>\n",
       "</div>"
      ],
      "text/plain": [
       "            IF2019       IF2018      IF2016       IF2015       IF2014\n",
       "count   154.000000   151.000000   150.00000   149.000000   147.000000\n",
       "mean   5400.577922  5385.761589  5365.96000  5379.228188  5424.557823\n",
       "std    1118.668780  1124.241159  1136.83544  1148.940841  1118.542686\n",
       "min    2853.000000  2905.000000  2693.00000  2905.000000  2936.000000\n",
       "25%    4537.500000  4463.500000  4519.25000  4404.000000  4567.500000\n",
       "50%    5356.000000  5358.000000  5283.00000  5303.000000  5340.000000\n",
       "75%    6189.500000  6182.500000  6152.25000  6324.000000  6306.000000\n",
       "max    7769.000000  7632.000000  7537.00000  7526.000000  7693.000000"
      ]
     },
     "execution_count": 280,
     "metadata": {},
     "output_type": "execute_result"
    }
   ],
   "source": [
    "# Comparación con los valores mundiales de los países de interés\n",
    "ai[['IF2019', 'IF2018', 'IF2016', 'IF2015', 'IF2014']].describe()"
   ]
  },
  {
   "cell_type": "markdown",
   "metadata": {},
   "source": [
    "En esta comparación se observará el caso especifico de Colombia\n",
    "\n",
    "En todos los años el índide de felicidad obtenido por el país ha estado por debajo del 75% de los datos, evidenciandose que Colombia no es uno de los países más felices del mundo.\n",
    "\n",
    "Evidentemente está por encima de la media en todos los casos, pero al estar al interior del rango intercuartílico el país tiene un comportamiento normal."
   ]
  }
 ],
 "metadata": {
  "kernelspec": {
   "display_name": "Python 3",
   "language": "python",
   "name": "python3"
  },
  "language_info": {
   "codemirror_mode": {
    "name": "ipython",
    "version": 3
   },
   "file_extension": ".py",
   "mimetype": "text/x-python",
   "name": "python",
   "nbconvert_exporter": "python",
   "pygments_lexer": "ipython3",
   "version": "3.6.7"
  }
 },
 "nbformat": 4,
 "nbformat_minor": 2
}
